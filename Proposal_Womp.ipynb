{
 "cells": [
  {
   "cell_type": "raw",
   "id": "33dd6c4c",
   "metadata": {},
   "source": [
    "---\n",
    "title: \"Project proposal\"\n",
    "format: \n",
    "  html:\n",
    "    toc: true\n",
    "    toc-title: Contents\n",
    "    code-fold: show\n",
    "    self-contained: true\n",
    "jupyter: python3\n",
    "---"
   ]
  },
  {
   "cell_type": "markdown",
   "id": "0116f49b",
   "metadata": {},
   "source": [
    "## Instructions {-}\n",
    "\n",
    "1. Please answer the following questions as part of your project proposal.\n",
    "\n",
    "2. Write your answers in the *Markdown* cells of the Jupyter notebook. You don't need to write any code, but if you want to, you may use the *Code* cells.\n",
    "\n",
    "3. Use [Quarto](https://quarto.org/docs/output-formats/html-basics.html) to print the *.ipynb* file as HTML. You will need to open the command prompt, navigate to the directory containing the file, and use the command: `quarto render filename.ipynb --to html`. Submit the HTML file.\n",
    "\n",
    "4. The project proposal is worth 8 points, and is due on **17th October 2023 at 11:59 pm**. \n",
    "\n",
    "5. You must make one submission as a group, and not individually.\n",
    "\n",
    "6. Maintaining a GitHub repository is optional, though encouraged for the project.\n",
    "\n",
    "7. Share the link of your project’s GitHub repository on the [spreadsheet](https://docs.google.com/spreadsheets/d/1khao3unpj_vsx4kOSg_Zzo77YK1UWL2w73Oa0aAirOo/edit#gid=0)."
   ]
  },
  {
   "cell_type": "markdown",
   "id": "fe7ea9bb",
   "metadata": {},
   "source": [
    "# 1) Team name\n",
    "Mention your team name.\n",
    "\n",
    "*(0 points)*"
   ]
  },
  {
   "cell_type": "markdown",
   "id": "d387aa16",
   "metadata": {},
   "source": [
    "Womp"
   ]
  },
  {
   "cell_type": "markdown",
   "id": "16fccc9b",
   "metadata": {},
   "source": [
    "# 2) Member names\n",
    "Mention the names of your team members.\n",
    "\n",
    "\n",
    "\n",
    "*(0 points)*"
   ]
  },
  {
   "cell_type": "markdown",
   "id": "46176fcc",
   "metadata": {},
   "source": [
    "Yuki Han,\t\n",
    "Fanyi Mo,\t\n",
    "Antonio Santa Cruz,\t\n",
    "Vincent Zhang"
   ]
  },
  {
   "cell_type": "markdown",
   "id": "16c1a490",
   "metadata": {},
   "source": [
    "# 3) Topic\n",
    "Mention the topic of your course project.\n",
    "\n",
    "*(0 points)*"
   ]
  },
  {
   "cell_type": "markdown",
   "id": "e1e209d1",
   "metadata": {},
   "source": [
    "Understanding the interplay of hospital treatments (including diagnosis, hospital-administered tests and drugs) and various patient data points in the context of diabetes care."
   ]
  },
  {
   "cell_type": "markdown",
   "id": "9403cdfb",
   "metadata": {},
   "source": [
    "# 4) Inspiration\n",
    "What inspired your team to choose this topic?\n",
    "\n",
    "*(0.1 points)*"
   ]
  },
  {
   "cell_type": "markdown",
   "id": "c36fc18e",
   "metadata": {},
   "source": [
    "We have a general interest in using data to generate better healthcare outcomes. The medical field can benefit from the determination of trends in medical procedure and outcomes that can not be easily understood without large aggregate data."
   ]
  },
  {
   "cell_type": "markdown",
   "id": "51a7babb",
   "metadata": {},
   "source": [
    "# 5) EDA (Exploratory data analysis) questions\n",
    "\n",
    "Explain the questions to be answered in your course project. You must have 4 questions - one for each team member. Mention the name of the team member and the question that they will answer against it.\n",
    "\n",
    "*(0.4 points)*"
   ]
  },
  {
   "cell_type": "markdown",
   "id": "a809f4d7",
   "metadata": {},
   "source": [
    "1. Readmission Rate: How the various drugs taken by the patient and the type of care received influences readmission rates? (Vincent Zhang)\n",
    "\n",
    "2. Length of Stay: How might shorter or longer hospital stays enhance the patient outcomes and lower the burden on healthcare resources? (Fanyi Mo)\n",
    "\n",
    "3. Number of Emergency Visits in the Year Preceding the Encounter: How is the number of emergency visits the diabetic patients have in the year leading up to their hospital encounter related to the probability of a successful inpatient treatment for the patient? (Yuki Han)\n",
    "\n",
    "4. Number of Procedures (Other than Lab Tests) Performed During the Encounter: Can we predict the successful recovery rate of a patient based on the number procedures they had during their stay? (Antonio Santa Cruz)\n",
    "\n"
   ]
  },
  {
   "cell_type": "markdown",
   "id": "3eb2d4f2",
   "metadata": {},
   "source": [
    "# 6) Data \n",
    "\n",
    "What data sources will you use, and how will the data help answer the questions? Explain.\n",
    "\n",
    "If the data is open source, share the link of the data.\n",
    "\n",
    "What is the number of continuous variables, categorical variables, and observations in your dataset(s). If you are using multiple datasets, please provide the information for each dataset. When counting variables, count only those that have sufficient non-missing values, and will be useful.\n",
    "\n",
    "Which variable is the main variable of interest? For example, if you are analyzing election trends, then the variable consisting of number of votes may be the main variable of interest. If you are analyzing crime rate, the variable consisting of the number of crimes may be the main variable of interest.\n",
    "\n",
    "*Note: You cannot use any of the datasets mentioned [here](https://sites.google.com/view/stat303-1fall2023/project).*\n",
    "\n",
    "*(0.4 points)*"
   ]
  },
  {
   "cell_type": "code",
   "execution_count": 2,
   "id": "ea97a6ab",
   "metadata": {},
   "outputs": [
    {
     "name": "stdout",
     "output_type": "stream",
     "text": [
      "\u001b[33mWARNING: Skipping ucimlrepo as it is not installed.\u001b[0m\u001b[33m\r\n",
      "\u001b[0m"
     ]
    }
   ],
   "source": [
    "! pip uninstall ucimlrepo -y"
   ]
  },
  {
   "cell_type": "code",
   "execution_count": 3,
   "id": "e1be3040",
   "metadata": {
    "scrolled": true
   },
   "outputs": [
    {
     "name": "stdout",
     "output_type": "stream",
     "text": [
      "{'uci_id': 296, 'name': 'Diabetes 130-US hospitals for years 1999-2008', 'repository_url': 'https://archive.ics.uci.edu/dataset/296/diabetes+130-us+hospitals+for+years+1999-2008', 'data_url': 'https://archive.ics.uci.edu/static/public/296/data.csv', 'abstract': 'The dataset represents ten years (1999-2008) of clinical care at 130 US hospitals and integrated delivery networks. Each row concerns hospital records of patients diagnosed with diabetes, who underwent laboratory, medications, and stayed up to 14 days. The goal is to determine the early readmission of the patient within 30 days of discharge.\\nThe problem is important for the following reasons. Despite high-quality evidence showing improved clinical outcomes for diabetic patients who receive various preventive and therapeutic interventions, many patients do not receive them. This can be partially attributed to arbitrary diabetes management in hospital environments, which fail to attend to glycemic control. Failure to provide proper diabetes care not only increases the managing costs for the hospitals (as the patients are readmitted) but also impacts the morbidity and mortality of the patients, who may face complications associated with diabetes.\\n', 'area': 'Health and Medicine', 'tasks': ['Classification', 'Clustering'], 'characteristics': ['Multivariate'], 'num_instances': 101766, 'num_features': 47, 'feature_types': ['Categorical', 'Integer'], 'demographics': ['Race', 'Gender', 'Age'], 'target_col': ['readmitted'], 'index_col': ['encounter_id', 'patient_nbr'], 'has_missing_values': 'yes', 'missing_values_symbol': 'NaN', 'year_of_dataset_creation': 2014, 'last_updated': 'Fri Nov 03 2023', 'dataset_doi': '10.24432/C5230J', 'creators': ['John Clore', 'Krzysztof Cios', 'Jon DeShazo', 'Beata Strack'], 'intro_paper': {'title': 'Impact of HbA1c Measurement on Hospital Readmission Rates: Analysis of 70,000 Clinical Database Patient Record', 'authors': 'Beata Strack, Jonathan DeShazo, Chris Gennings, Juan Olmo, Sebastian Ventura, Krzysztof Cios, John Clore', 'published_in': 'BioMed Research International, vol. 2014', 'year': 2014, 'url': 'https://www.hindawi.com/journals/bmri/2014/781670/', 'doi': None}, 'additional_info': {'summary': 'The dataset represents ten years (1999-2008) of clinical care at 130 US hospitals and integrated delivery networks. It includes over 50 features representing patient and hospital outcomes. Information was extracted from the database for encounters that satisfied the following criteria.\\n(1)\\tIt is an inpatient encounter (a hospital admission).\\n(2)\\tIt is a diabetic encounter, that is, one during which any kind of diabetes was entered into the system as a diagnosis.\\n(3)\\tThe length of stay was at least 1 day and at most 14 days.\\n(4)\\tLaboratory tests were performed during the encounter.\\n(5)\\tMedications were administered during the encounter.\\n\\nThe data contains such attributes as patient number, race, gender, age, admission type, time in hospital, medical specialty of admitting physician, number of lab tests performed, HbA1c test result, diagnosis, number of medications, diabetic medications, number of outpatient, inpatient, and emergency visits in the year before the hospitalization, etc.', 'purpose': None, 'funded_by': None, 'instances_represent': 'The instances represent hospitalized patient records diagnosed with diabetes.', 'recommended_data_splits': 'No recommendation. The standard train-test split could be used. Can use three-way holdout split (i.e., train-validation-test) when doing model selection.', 'sensitive_data': 'Yes. The dataset contains information about the age, gender, and race of the patients.', 'preprocessing_description': None, 'variable_info': 'Detailed description of all the atrributes is provided in Table 1 Beata Strack, Jonathan P. DeShazo, Chris Gennings,  Juan L. Olmo, Sebastian Ventura,  Krzysztof J. Cios, and John N. Clore, “Impact of HbA1c Measurement on Hospital Readmission Rates: Analysis of 70,000 Clinical Database Patient Records,” BioMed Research International, vol. 2014, Article ID 781670, 11 pages, 2014.\\n\\nhttp://www.hindawi.com/journals/bmri/2014/781670/', 'citation': 'Please cite:\\nBeata Strack, Jonathan P. DeShazo, Chris Gennings, Juan L. Olmo, Sebastian Ventura, Krzysztof J. Cios, and John N. Clore, “Impact of HbA1c Measurement on Hospital Readmission Rates: Analysis of 70,000 Clinical Database Patient Records,” BioMed Research International, vol. 2014, Article ID 781670, 11 pages, 2014.'}}\n",
      "                        name     role         type demographic  \\\n",
      "0               encounter_id       ID                     None   \n",
      "1                patient_nbr       ID                     None   \n",
      "2                       race  Feature  Categorical        Race   \n",
      "3                     gender  Feature  Categorical      Gender   \n",
      "4                        age  Feature  Categorical         Age   \n",
      "5                     weight  Feature  Categorical        None   \n",
      "6          admission_type_id  Feature  Categorical        None   \n",
      "7   discharge_disposition_id  Feature  Categorical        None   \n",
      "8        admission_source_id  Feature  Categorical        None   \n",
      "9           time_in_hospital  Feature      Integer        None   \n",
      "10                payer_code  Feature  Categorical        None   \n",
      "11         medical_specialty  Feature  Categorical        None   \n",
      "12        num_lab_procedures  Feature      Integer        None   \n",
      "13            num_procedures  Feature      Integer        None   \n",
      "14           num_medications  Feature      Integer        None   \n",
      "15         number_outpatient  Feature      Integer        None   \n",
      "16          number_emergency  Feature      Integer        None   \n",
      "17          number_inpatient  Feature      Integer        None   \n",
      "18                    diag_1  Feature  Categorical        None   \n",
      "19                    diag_2  Feature  Categorical        None   \n",
      "20                    diag_3  Feature  Categorical        None   \n",
      "21          number_diagnoses  Feature      Integer        None   \n",
      "22             max_glu_serum  Feature  Categorical        None   \n",
      "23                 A1Cresult  Feature  Categorical        None   \n",
      "24                 metformin  Feature  Categorical        None   \n",
      "25               repaglinide  Feature  Categorical        None   \n",
      "26               nateglinide  Feature  Categorical        None   \n",
      "27            chlorpropamide  Feature  Categorical        None   \n",
      "28               glimepiride  Feature  Categorical        None   \n",
      "29             acetohexamide  Feature  Categorical        None   \n",
      "30                 glipizide  Feature  Categorical        None   \n",
      "31                 glyburide  Feature  Categorical        None   \n",
      "32               tolbutamide  Feature  Categorical        None   \n",
      "33              pioglitazone  Feature  Categorical        None   \n",
      "34             rosiglitazone  Feature  Categorical        None   \n",
      "35                  acarbose  Feature  Categorical        None   \n",
      "36                  miglitol  Feature  Categorical        None   \n",
      "37              troglitazone  Feature  Categorical        None   \n",
      "38                tolazamide  Feature  Categorical        None   \n",
      "39                   examide  Feature  Categorical        None   \n",
      "40               citoglipton  Feature  Categorical        None   \n",
      "41                   insulin  Feature  Categorical        None   \n",
      "42       glyburide-metformin  Feature  Categorical        None   \n",
      "43       glipizide-metformin  Feature  Categorical        None   \n",
      "44  glimepiride-pioglitazone  Feature  Categorical        None   \n",
      "45   metformin-rosiglitazone  Feature  Categorical        None   \n",
      "46    metformin-pioglitazone  Feature  Categorical        None   \n",
      "47                    change  Feature  Categorical        None   \n",
      "48               diabetesMed  Feature  Categorical        None   \n",
      "49                readmitted   Target  Categorical        None   \n",
      "\n",
      "                                          description units missing_values  \n",
      "0                   Unique identifier of an encounter  None             no  \n",
      "1                      Unique identifier of a patient  None             no  \n",
      "2   Values: Caucasian, Asian, African American, Hi...  None            yes  \n",
      "3           Values: male, female, and unknown/invalid  None             no  \n",
      "4   Grouped in 10-year intervals: [0, 10), [10, 20...  None             no  \n",
      "5                                   Weight in pounds.  None            yes  \n",
      "6   Integer identifier corresponding to 9 distinct...  None             no  \n",
      "7   Integer identifier corresponding to 29 distinc...  None             no  \n",
      "8   Integer identifier corresponding to 21 distinc...  None             no  \n",
      "9   Integer number of days between admission and d...  None             no  \n",
      "10  Integer identifier corresponding to 23 distinc...  None            yes  \n",
      "11  Integer identifier of a specialty of the admit...  None            yes  \n",
      "12  Number of lab tests performed during the encou...  None             no  \n",
      "13  Number of procedures (other than lab tests) pe...  None             no  \n",
      "14  Number of distinct generic names administered ...  None             no  \n",
      "15  Number of outpatient visits of the patient in ...  None             no  \n",
      "16  Number of emergency visits of the patient in t...  None             no  \n",
      "17  Number of inpatient visits of the patient in t...  None             no  \n",
      "18  The primary diagnosis (coded as first three di...  None            yes  \n",
      "19  Secondary diagnosis (coded as first three digi...  None            yes  \n",
      "20  Additional secondary diagnosis (coded as first...  None            yes  \n",
      "21          Number of diagnoses entered to the system  None             no  \n",
      "22  Indicates the range of the result or if the te...  None             no  \n",
      "23  Indicates the range of the result or if the te...  None             no  \n",
      "24  The feature indicates whether the drug was pre...  None             no  \n",
      "25  The feature indicates whether the drug was pre...  None             no  \n",
      "26  The feature indicates whether the drug was pre...  None             no  \n",
      "27  The feature indicates whether the drug was pre...  None             no  \n",
      "28  The feature indicates whether the drug was pre...  None             no  \n",
      "29  The feature indicates whether the drug was pre...  None             no  \n",
      "30  The feature indicates whether the drug was pre...  None             no  \n",
      "31  The feature indicates whether the drug was pre...  None             no  \n",
      "32  The feature indicates whether the drug was pre...  None             no  \n",
      "33  The feature indicates whether the drug was pre...  None             no  \n",
      "34  The feature indicates whether the drug was pre...  None             no  \n",
      "35  The feature indicates whether the drug was pre...  None             no  \n",
      "36  The feature indicates whether the drug was pre...  None             no  \n",
      "37  The feature indicates whether the drug was pre...  None             no  \n",
      "38  The feature indicates whether the drug was pre...  None             no  \n",
      "39  The feature indicates whether the drug was pre...  None             no  \n",
      "40  The feature indicates whether the drug was pre...  None             no  \n",
      "41  The feature indicates whether the drug was pre...  None             no  \n",
      "42  The feature indicates whether the drug was pre...  None             no  \n",
      "43  The feature indicates whether the drug was pre...  None             no  \n",
      "44  The feature indicates whether the drug was pre...  None             no  \n",
      "45  The feature indicates whether the drug was pre...  None             no  \n",
      "46  The feature indicates whether the drug was pre...  None             no  \n",
      "47  Indicates if there was a change in diabetic me...  None             no  \n",
      "48  Indicates if there was any diabetic medication...  None             no  \n",
      "49  Days to inpatient readmission. Values: <30 if ...  None             no  \n"
     ]
    },
    {
     "name": "stderr",
     "output_type": "stream",
     "text": [
      "/Users/hanziyan/Desktop/STAT303_GROUP/ucimlrepo/fetch.py:100: DtypeWarning: Columns (10) have mixed types. Specify dtype option on import or set low_memory=False.\n",
      "  df = pd.read_csv(data_url)\n"
     ]
    }
   ],
   "source": [
    "from ucimlrepo import fetch_ucirepo\n",
    "\n",
    "diabetes_130_us_hospitals_for_years_1999_2008 = fetch_ucirepo(id=296)\n",
    "X = diabetes_130_us_hospitals_for_years_1999_2008.data.features \n",
    "y = diabetes_130_us_hospitals_for_years_1999_2008.data.targets\n",
    "\n",
    "print(diabetes_130_us_hospitals_for_years_1999_2008.metadata)\n",
    "print(diabetes_130_us_hospitals_for_years_1999_2008.variables)"
   ]
  },
  {
   "cell_type": "code",
   "execution_count": 4,
   "id": "084b349c",
   "metadata": {},
   "outputs": [],
   "source": [
    "ids = diabetes_130_us_hospitals_for_years_1999_2008.data.ids\n",
    "data = diabetes_130_us_hospitals_for_years_1999_2008.data.features\n",
    "\n",
    "data = data.join(ids)\n",
    "\n",
    "data[\"readmitted\"] = diabetes_130_us_hospitals_for_years_1999_2008.data.targets\n",
    "\n",
    "data = data.drop_duplicates(subset=[\"patient_nbr\"], keep='first')\n",
    "\n",
    "data = data.loc[data.gender!=\"Unknown/Invalid\",:]"
   ]
  },
  {
   "cell_type": "markdown",
   "id": "3bfbcac0",
   "metadata": {},
   "source": [
    "\n",
    "----------------------------------------------------------------\n",
    "Link to dataset: https://archive.ics.uci.edu/dataset/296/diabetes+130-us+hospitals+for+years+1999-2008\n",
    "\n",
    "The dataset represents ten years (1999-2008) of clinical care at 130 US hospitals and integrated delivery networks. Each row concerns hospital records of patients diagnosed with diabetes, who underwent laboratory, medications, and stayed up to 14 days. The data contains such attributes as patient number, race, gender, age, admission type, time in hospital, medical specialty of admitting physician, number of lab tests performed, HbA1c test result, diagnosis, number of medications, diabetic medications, number of outpatient, inpatient, and emergency visits in the year before the hospitalization, etc.\n",
    "\n",
    "Number of Observations = 101766\n",
    "Number of Categorical Variables = 40\n",
    "Number of Continuous Variables = 8\n",
    "\n",
    "Variables of Interest = time_in_hospital, readmitted, number_emergency, num_procedures, num_medications, and all drug variables"
   ]
  },
  {
   "cell_type": "markdown",
   "id": "cb8a845f",
   "metadata": {},
   "source": [
    "# 7) Stakeholders"
   ]
  },
  {
   "cell_type": "markdown",
   "id": "d39c782c",
   "metadata": {},
   "source": [
    "Who are the stakeholders, and how will your project benefit them? Explain.\n",
    "\n",
    "*(0.1 points)*"
   ]
  },
  {
   "cell_type": "markdown",
   "id": "81370b29",
   "metadata": {},
   "source": [
    "The stakeholders a healthcare providers, hospital administrators, as well as patients and their families. \n",
    "\n",
    "This research project centers around the interplay of hospital treatments (including diagnosis, hospital-administered tests and drugs) and various patient data points in the context of diabetes care. The result of our study holds significant promise for the stakeholders of the Northwestern Medicine (NM) ecosystem: healthcare providers and hospitals under NM can better understand the relationships between factors like readmission rates, length of stay, prior emergency visits, and procedural interventions that can lead to more informed and tailored treatment decisions. This, in turn, enhances patient outcomes, reduces healthcare costs, and optimizes resource allocation. For example, if it is found that some drugs are less effective or rarely prescribed, we may suggest that hospitals stockpile less of these drugs.  "
   ]
  }
 ],
 "metadata": {
  "kernelspec": {
   "display_name": "Python 3 (ipykernel)",
   "language": "python",
   "name": "python3"
  },
  "language_info": {
   "codemirror_mode": {
    "name": "ipython",
    "version": 3
   },
   "file_extension": ".py",
   "mimetype": "text/x-python",
   "name": "python",
   "nbconvert_exporter": "python",
   "pygments_lexer": "ipython3",
   "version": "3.9.12"
  }
 },
 "nbformat": 4,
 "nbformat_minor": 5
}
